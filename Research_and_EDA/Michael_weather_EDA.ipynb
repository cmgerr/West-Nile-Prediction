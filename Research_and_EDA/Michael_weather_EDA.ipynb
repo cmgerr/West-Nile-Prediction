{
 "cells": [
  {
   "cell_type": "code",
   "execution_count": 30,
   "metadata": {
    "collapsed": true
   },
   "outputs": [],
   "source": [
    "import pandas as pd\n",
    "import numpy as np\n",
    "from matplotlib import pyplot as plt\n",
    "\n",
    "%matplotlib inline"
   ]
  },
  {
   "cell_type": "code",
   "execution_count": 31,
   "metadata": {
    "collapsed": true
   },
   "outputs": [],
   "source": [
    "# Create path for train.csv and weather.csv\n",
    "\n",
    "path_train = '/Users/michaelshea/desktop/class/WestNile/WestNilePrediction/Assets/train.csv'\n",
    "path_weather = '/Users/michaelshea/desktop/class/WestNile/WestNilePrediction/Assets/weather.csv'"
   ]
  },
  {
   "cell_type": "code",
   "execution_count": 32,
   "metadata": {
    "collapsed": false
   },
   "outputs": [],
   "source": [
    "# Read in dataframes\n",
    "\n",
    "train = pd.read_csv(path_train)\n",
    "weather = pd.read_csv(path_weather)"
   ]
  },
  {
   "cell_type": "code",
   "execution_count": 33,
   "metadata": {
    "collapsed": false
   },
   "outputs": [
    {
     "name": "stdout",
     "output_type": "stream",
     "text": [
      "Date                       object\n",
      "Address                    object\n",
      "Species                    object\n",
      "Block                       int64\n",
      "Street                     object\n",
      "Trap                       object\n",
      "AddressNumberAndStreet     object\n",
      "Latitude                  float64\n",
      "Longitude                 float64\n",
      "AddressAccuracy             int64\n",
      "NumMosquitos                int64\n",
      "WnvPresent                  int64\n",
      "dtype: object\n"
     ]
    }
   ],
   "source": [
    "# Dtypes and columns of train_df \n",
    "\n",
    "print train.dtypes"
   ]
  },
  {
   "cell_type": "code",
   "execution_count": 34,
   "metadata": {
    "collapsed": true
   },
   "outputs": [],
   "source": [
    "# Convert train.Date to datetime\n",
    "\n",
    "train['Date'] = pd.to_datetime(train.Date)"
   ]
  },
  {
   "cell_type": "code",
   "execution_count": 35,
   "metadata": {
    "collapsed": false
   },
   "outputs": [
    {
     "name": "stdout",
     "output_type": "stream",
     "text": [
      "Station          int64\n",
      "Date            object\n",
      "Tmax             int64\n",
      "Tmin             int64\n",
      "Tavg            object\n",
      "Depart          object\n",
      "DewPoint         int64\n",
      "WetBulb         object\n",
      "Heat            object\n",
      "Cool            object\n",
      "Sunrise         object\n",
      "Sunset          object\n",
      "CodeSum         object\n",
      "Depth           object\n",
      "Water1          object\n",
      "SnowFall        object\n",
      "PrecipTotal     object\n",
      "StnPressure     object\n",
      "SeaLevel        object\n",
      "ResultSpeed    float64\n",
      "ResultDir        int64\n",
      "AvgSpeed        object\n",
      "dtype: object\n"
     ]
    }
   ],
   "source": [
    "# Dtypes and columns of weather_df\n",
    "\n",
    "print weather.dtypes"
   ]
  },
  {
   "cell_type": "code",
   "execution_count": 36,
   "metadata": {
    "collapsed": false
   },
   "outputs": [
    {
     "data": {
      "text/html": [
       "<div>\n",
       "<table border=\"1\" class=\"dataframe\">\n",
       "  <thead>\n",
       "    <tr style=\"text-align: right;\">\n",
       "      <th></th>\n",
       "      <th>Station</th>\n",
       "      <th>Date</th>\n",
       "      <th>Tmax</th>\n",
       "      <th>Tmin</th>\n",
       "      <th>Tavg</th>\n",
       "      <th>Depart</th>\n",
       "      <th>DewPoint</th>\n",
       "      <th>WetBulb</th>\n",
       "      <th>Heat</th>\n",
       "      <th>Cool</th>\n",
       "      <th>...</th>\n",
       "      <th>CodeSum</th>\n",
       "      <th>Depth</th>\n",
       "      <th>Water1</th>\n",
       "      <th>SnowFall</th>\n",
       "      <th>PrecipTotal</th>\n",
       "      <th>StnPressure</th>\n",
       "      <th>SeaLevel</th>\n",
       "      <th>ResultSpeed</th>\n",
       "      <th>ResultDir</th>\n",
       "      <th>AvgSpeed</th>\n",
       "    </tr>\n",
       "  </thead>\n",
       "  <tbody>\n",
       "    <tr>\n",
       "      <th>0</th>\n",
       "      <td>1</td>\n",
       "      <td>2007-05-01</td>\n",
       "      <td>83</td>\n",
       "      <td>50</td>\n",
       "      <td>67</td>\n",
       "      <td>14</td>\n",
       "      <td>51</td>\n",
       "      <td>56</td>\n",
       "      <td>0</td>\n",
       "      <td>2</td>\n",
       "      <td>...</td>\n",
       "      <td></td>\n",
       "      <td>0</td>\n",
       "      <td>M</td>\n",
       "      <td>0.0</td>\n",
       "      <td>0.00</td>\n",
       "      <td>29.10</td>\n",
       "      <td>29.82</td>\n",
       "      <td>1.7</td>\n",
       "      <td>27</td>\n",
       "      <td>9.2</td>\n",
       "    </tr>\n",
       "    <tr>\n",
       "      <th>1</th>\n",
       "      <td>2</td>\n",
       "      <td>2007-05-01</td>\n",
       "      <td>84</td>\n",
       "      <td>52</td>\n",
       "      <td>68</td>\n",
       "      <td>M</td>\n",
       "      <td>51</td>\n",
       "      <td>57</td>\n",
       "      <td>0</td>\n",
       "      <td>3</td>\n",
       "      <td>...</td>\n",
       "      <td></td>\n",
       "      <td>M</td>\n",
       "      <td>M</td>\n",
       "      <td>M</td>\n",
       "      <td>0.00</td>\n",
       "      <td>29.18</td>\n",
       "      <td>29.82</td>\n",
       "      <td>2.7</td>\n",
       "      <td>25</td>\n",
       "      <td>9.6</td>\n",
       "    </tr>\n",
       "    <tr>\n",
       "      <th>2</th>\n",
       "      <td>1</td>\n",
       "      <td>2007-05-02</td>\n",
       "      <td>59</td>\n",
       "      <td>42</td>\n",
       "      <td>51</td>\n",
       "      <td>-3</td>\n",
       "      <td>42</td>\n",
       "      <td>47</td>\n",
       "      <td>14</td>\n",
       "      <td>0</td>\n",
       "      <td>...</td>\n",
       "      <td>BR</td>\n",
       "      <td>0</td>\n",
       "      <td>M</td>\n",
       "      <td>0.0</td>\n",
       "      <td>0.00</td>\n",
       "      <td>29.38</td>\n",
       "      <td>30.09</td>\n",
       "      <td>13.0</td>\n",
       "      <td>4</td>\n",
       "      <td>13.4</td>\n",
       "    </tr>\n",
       "    <tr>\n",
       "      <th>3</th>\n",
       "      <td>2</td>\n",
       "      <td>2007-05-02</td>\n",
       "      <td>60</td>\n",
       "      <td>43</td>\n",
       "      <td>52</td>\n",
       "      <td>M</td>\n",
       "      <td>42</td>\n",
       "      <td>47</td>\n",
       "      <td>13</td>\n",
       "      <td>0</td>\n",
       "      <td>...</td>\n",
       "      <td>BR HZ</td>\n",
       "      <td>M</td>\n",
       "      <td>M</td>\n",
       "      <td>M</td>\n",
       "      <td>0.00</td>\n",
       "      <td>29.44</td>\n",
       "      <td>30.08</td>\n",
       "      <td>13.3</td>\n",
       "      <td>2</td>\n",
       "      <td>13.4</td>\n",
       "    </tr>\n",
       "    <tr>\n",
       "      <th>4</th>\n",
       "      <td>1</td>\n",
       "      <td>2007-05-03</td>\n",
       "      <td>66</td>\n",
       "      <td>46</td>\n",
       "      <td>56</td>\n",
       "      <td>2</td>\n",
       "      <td>40</td>\n",
       "      <td>48</td>\n",
       "      <td>9</td>\n",
       "      <td>0</td>\n",
       "      <td>...</td>\n",
       "      <td></td>\n",
       "      <td>0</td>\n",
       "      <td>M</td>\n",
       "      <td>0.0</td>\n",
       "      <td>0.00</td>\n",
       "      <td>29.39</td>\n",
       "      <td>30.12</td>\n",
       "      <td>11.7</td>\n",
       "      <td>7</td>\n",
       "      <td>11.9</td>\n",
       "    </tr>\n",
       "  </tbody>\n",
       "</table>\n",
       "<p>5 rows × 22 columns</p>\n",
       "</div>"
      ],
      "text/plain": [
       "   Station        Date  Tmax  Tmin Tavg Depart  DewPoint WetBulb Heat Cool  \\\n",
       "0        1  2007-05-01    83    50   67     14        51      56    0    2   \n",
       "1        2  2007-05-01    84    52   68      M        51      57    0    3   \n",
       "2        1  2007-05-02    59    42   51     -3        42      47   14    0   \n",
       "3        2  2007-05-02    60    43   52      M        42      47   13    0   \n",
       "4        1  2007-05-03    66    46   56      2        40      48    9    0   \n",
       "\n",
       "     ...    CodeSum Depth Water1 SnowFall PrecipTotal StnPressure SeaLevel  \\\n",
       "0    ...                0      M      0.0        0.00       29.10    29.82   \n",
       "1    ...                M      M        M        0.00       29.18    29.82   \n",
       "2    ...         BR     0      M      0.0        0.00       29.38    30.09   \n",
       "3    ...      BR HZ     M      M        M        0.00       29.44    30.08   \n",
       "4    ...                0      M      0.0        0.00       29.39    30.12   \n",
       "\n",
       "  ResultSpeed ResultDir  AvgSpeed  \n",
       "0         1.7        27       9.2  \n",
       "1         2.7        25       9.6  \n",
       "2        13.0         4      13.4  \n",
       "3        13.3         2      13.4  \n",
       "4        11.7         7      11.9  \n",
       "\n",
       "[5 rows x 22 columns]"
      ]
     },
     "execution_count": 36,
     "metadata": {},
     "output_type": "execute_result"
    }
   ],
   "source": [
    "weather.head()"
   ]
  },
  {
   "cell_type": "code",
   "execution_count": 37,
   "metadata": {
    "collapsed": false
   },
   "outputs": [
    {
     "data": {
      "text/html": [
       "<div>\n",
       "<table border=\"1\" class=\"dataframe\">\n",
       "  <thead>\n",
       "    <tr style=\"text-align: right;\">\n",
       "      <th></th>\n",
       "      <th>Date</th>\n",
       "      <th>Address</th>\n",
       "      <th>Species</th>\n",
       "      <th>Block</th>\n",
       "      <th>Street</th>\n",
       "      <th>Trap</th>\n",
       "      <th>AddressNumberAndStreet</th>\n",
       "      <th>Latitude</th>\n",
       "      <th>Longitude</th>\n",
       "      <th>AddressAccuracy</th>\n",
       "      <th>NumMosquitos</th>\n",
       "      <th>WnvPresent</th>\n",
       "    </tr>\n",
       "  </thead>\n",
       "  <tbody>\n",
       "    <tr>\n",
       "      <th>0</th>\n",
       "      <td>2007-05-29</td>\n",
       "      <td>4100 North Oak Park Avenue, Chicago, IL 60634,...</td>\n",
       "      <td>CULEX PIPIENS/RESTUANS</td>\n",
       "      <td>41</td>\n",
       "      <td>N OAK PARK AVE</td>\n",
       "      <td>T002</td>\n",
       "      <td>4100  N OAK PARK AVE, Chicago, IL</td>\n",
       "      <td>41.954690</td>\n",
       "      <td>-87.800991</td>\n",
       "      <td>9</td>\n",
       "      <td>1</td>\n",
       "      <td>0</td>\n",
       "    </tr>\n",
       "    <tr>\n",
       "      <th>1</th>\n",
       "      <td>2007-05-29</td>\n",
       "      <td>4100 North Oak Park Avenue, Chicago, IL 60634,...</td>\n",
       "      <td>CULEX RESTUANS</td>\n",
       "      <td>41</td>\n",
       "      <td>N OAK PARK AVE</td>\n",
       "      <td>T002</td>\n",
       "      <td>4100  N OAK PARK AVE, Chicago, IL</td>\n",
       "      <td>41.954690</td>\n",
       "      <td>-87.800991</td>\n",
       "      <td>9</td>\n",
       "      <td>1</td>\n",
       "      <td>0</td>\n",
       "    </tr>\n",
       "    <tr>\n",
       "      <th>2</th>\n",
       "      <td>2007-05-29</td>\n",
       "      <td>6200 North Mandell Avenue, Chicago, IL 60646, USA</td>\n",
       "      <td>CULEX RESTUANS</td>\n",
       "      <td>62</td>\n",
       "      <td>N MANDELL AVE</td>\n",
       "      <td>T007</td>\n",
       "      <td>6200  N MANDELL AVE, Chicago, IL</td>\n",
       "      <td>41.994991</td>\n",
       "      <td>-87.769279</td>\n",
       "      <td>9</td>\n",
       "      <td>1</td>\n",
       "      <td>0</td>\n",
       "    </tr>\n",
       "    <tr>\n",
       "      <th>3</th>\n",
       "      <td>2007-05-29</td>\n",
       "      <td>7900 West Foster Avenue, Chicago, IL 60656, USA</td>\n",
       "      <td>CULEX PIPIENS/RESTUANS</td>\n",
       "      <td>79</td>\n",
       "      <td>W FOSTER AVE</td>\n",
       "      <td>T015</td>\n",
       "      <td>7900  W FOSTER AVE, Chicago, IL</td>\n",
       "      <td>41.974089</td>\n",
       "      <td>-87.824812</td>\n",
       "      <td>8</td>\n",
       "      <td>1</td>\n",
       "      <td>0</td>\n",
       "    </tr>\n",
       "    <tr>\n",
       "      <th>4</th>\n",
       "      <td>2007-05-29</td>\n",
       "      <td>7900 West Foster Avenue, Chicago, IL 60656, USA</td>\n",
       "      <td>CULEX RESTUANS</td>\n",
       "      <td>79</td>\n",
       "      <td>W FOSTER AVE</td>\n",
       "      <td>T015</td>\n",
       "      <td>7900  W FOSTER AVE, Chicago, IL</td>\n",
       "      <td>41.974089</td>\n",
       "      <td>-87.824812</td>\n",
       "      <td>8</td>\n",
       "      <td>4</td>\n",
       "      <td>0</td>\n",
       "    </tr>\n",
       "  </tbody>\n",
       "</table>\n",
       "</div>"
      ],
      "text/plain": [
       "        Date                                            Address  \\\n",
       "0 2007-05-29  4100 North Oak Park Avenue, Chicago, IL 60634,...   \n",
       "1 2007-05-29  4100 North Oak Park Avenue, Chicago, IL 60634,...   \n",
       "2 2007-05-29  6200 North Mandell Avenue, Chicago, IL 60646, USA   \n",
       "3 2007-05-29    7900 West Foster Avenue, Chicago, IL 60656, USA   \n",
       "4 2007-05-29    7900 West Foster Avenue, Chicago, IL 60656, USA   \n",
       "\n",
       "                  Species  Block           Street  Trap  \\\n",
       "0  CULEX PIPIENS/RESTUANS     41   N OAK PARK AVE  T002   \n",
       "1          CULEX RESTUANS     41   N OAK PARK AVE  T002   \n",
       "2          CULEX RESTUANS     62    N MANDELL AVE  T007   \n",
       "3  CULEX PIPIENS/RESTUANS     79     W FOSTER AVE  T015   \n",
       "4          CULEX RESTUANS     79     W FOSTER AVE  T015   \n",
       "\n",
       "              AddressNumberAndStreet   Latitude  Longitude  AddressAccuracy  \\\n",
       "0  4100  N OAK PARK AVE, Chicago, IL  41.954690 -87.800991                9   \n",
       "1  4100  N OAK PARK AVE, Chicago, IL  41.954690 -87.800991                9   \n",
       "2   6200  N MANDELL AVE, Chicago, IL  41.994991 -87.769279                9   \n",
       "3    7900  W FOSTER AVE, Chicago, IL  41.974089 -87.824812                8   \n",
       "4    7900  W FOSTER AVE, Chicago, IL  41.974089 -87.824812                8   \n",
       "\n",
       "   NumMosquitos  WnvPresent  \n",
       "0             1           0  \n",
       "1             1           0  \n",
       "2             1           0  \n",
       "3             1           0  \n",
       "4             4           0  "
      ]
     },
     "execution_count": 37,
     "metadata": {},
     "output_type": "execute_result"
    }
   ],
   "source": [
    "train.head()"
   ]
  },
  {
   "cell_type": "code",
   "execution_count": 38,
   "metadata": {
    "collapsed": true
   },
   "outputs": [],
   "source": [
    "# Convert weather Station to object\n",
    "\n",
    "weather['Station'] = weather.Station.apply(str)"
   ]
  },
  {
   "cell_type": "code",
   "execution_count": 39,
   "metadata": {
    "collapsed": false
   },
   "outputs": [],
   "source": [
    "# Convert weather Date column to datetime\n",
    "\n",
    "weather['Date'] = pd.to_datetime(weather.Date)"
   ]
  },
  {
   "cell_type": "code",
   "execution_count": 40,
   "metadata": {
    "collapsed": false
   },
   "outputs": [],
   "source": [
    "# Set weather index to Date\n",
    "\n",
    "weather.set_index('Date', inplace=True)"
   ]
  },
  {
   "cell_type": "code",
   "execution_count": 41,
   "metadata": {
    "collapsed": false
   },
   "outputs": [
    {
     "name": "stdout",
     "output_type": "stream",
     "text": [
      "2007-05-01 00:00:00\n",
      "2014-10-31 00:00:00\n"
     ]
    }
   ],
   "source": [
    "# Find Date range of weather data\n",
    "\n",
    "print weather.index.min()\n",
    "print weather.index.max()"
   ]
  },
  {
   "cell_type": "code",
   "execution_count": 42,
   "metadata": {
    "collapsed": false
   },
   "outputs": [
    {
     "name": "stdout",
     "output_type": "stream",
     "text": [
      "1472\n"
     ]
    }
   ],
   "source": [
    "# Was weather measured every day? Every weekday?\n",
    "# According to internet, there were 2741 days between the dates above, 1886 excluding weekends and public holidays\n",
    "\n",
    "# This proves weather not measured everyday (just something to note going forward):\n",
    "print len(weather.index.unique())"
   ]
  },
  {
   "cell_type": "code",
   "execution_count": 43,
   "metadata": {
    "collapsed": false
   },
   "outputs": [],
   "source": [
    "# Since test set includes 2008, 2010, 2012, and 2014, pull out these years from weather\n",
    "\n",
    "weather = weather[(weather.index.year == 2007) | (weather.index.year == 2009) | (weather.index.year == 2011) | (weather.index.year == 2013)]"
   ]
  },
  {
   "cell_type": "code",
   "execution_count": 44,
   "metadata": {
    "collapsed": false
   },
   "outputs": [
    {
     "name": "stdout",
     "output_type": "stream",
     "text": [
      "[2007 2009 2011 2013]\n"
     ]
    }
   ],
   "source": [
    "# Demonstrate above code worked:\n",
    "\n",
    "print np.unique(weather.index.year)"
   ]
  },
  {
   "cell_type": "markdown",
   "metadata": {},
   "source": [
    "Since there are two weather stations, it might make sense to calculate the distance between each trap and the nearest weather station, and then use that station's weather data when we merge. The following link is what I found when I googled \"calculate distance between two points latitude longitude python\": http://www.johndcook.com/blog/python_longitude_latitude/\n",
    "\n",
    "It uses this code:"
   ]
  },
  {
   "cell_type": "code",
   "execution_count": 45,
   "metadata": {
    "collapsed": false
   },
   "outputs": [],
   "source": [
    "import math\n",
    " \n",
    "def distance_on_unit_sphere(lat1, long1, lat2, long2):\n",
    "\n",
    "    # Convert latitude and longitude to spherical coordinates in radians\n",
    "    degrees_to_radians = math.pi/180.0\n",
    " \n",
    "    # phi = 90 - latitude\n",
    "    phi1 = (90.0 - lat1)*degrees_to_radians\n",
    "    phi2 = (90.0 - lat2)*degrees_to_radians\n",
    " \n",
    "    # theta = longitude\n",
    "    theta1 = long1*degrees_to_radians\n",
    "    theta2 = long2*degrees_to_radians\n",
    " \n",
    "    # Compute spherical distance from spherical coordinates.\n",
    " \n",
    "    # For two locations in spherical coordinates\n",
    "    # (1, theta, phi) and (1, theta', phi')\n",
    "    # cosine( arc length ) =\n",
    "    # sin phi sin phi' cos(theta-theta') + cos phi cos phi'\n",
    "    # distance = rho * arc length\n",
    " \n",
    "    cos = (math.sin(phi1)*math.sin(phi2)*math.cos(theta1 - theta2) +\n",
    "    math.cos(phi1)*math.cos(phi2))\n",
    "    arc = math.acos( cos )\n",
    "\n",
    "    # Remember to multiply arc by the radius of the earth\n",
    "    # in your favorite set of units to get length.\n",
    "    return arc"
   ]
  },
  {
   "cell_type": "code",
   "execution_count": 46,
   "metadata": {
    "collapsed": false
   },
   "outputs": [],
   "source": [
    "# We could add a new column called closest_station to the train dataframe\n",
    "\n",
    "station_1_lat = 41.995\n",
    "station_1_lon = -87.933\n",
    "station_2_lat = 41.786\n",
    "station_2_lon = -87.752\n",
    "dist_to_station_1 = []\n",
    "dist_to_station_2 = []\n",
    "closest_station = []\n",
    "\n",
    "for i in range(len(train.index)):\n",
    "    one = distance_on_unit_sphere(train.ix[i, 'Latitude'], train.ix[i, 'Longitude'], station_1_lat, station_1_lon)\n",
    "    two = distance_on_unit_sphere(train.ix[i, 'Latitude'], train.ix[i, 'Longitude'], station_2_lat, station_2_lon)\n",
    "    if dist_to_station_1 > dist_to_station_2:\n",
    "        closest_station.append('1')\n",
    "    else:\n",
    "        closest_station.append('2')"
   ]
  },
  {
   "cell_type": "code",
   "execution_count": 47,
   "metadata": {
    "collapsed": true
   },
   "outputs": [],
   "source": [
    "# Now add closest_station column to weather stations to train dataframe\n",
    "\n",
    "train['closest_station'] = closest_station"
   ]
  },
  {
   "cell_type": "code",
   "execution_count": 55,
   "metadata": {
    "collapsed": false
   },
   "outputs": [],
   "source": [
    "# Add a unique identifier column to both train and weather dataframes by combining timestamp and weather station\n",
    "\n",
    "train['date_station_id'] = train[\"Date\"].map(str) + train[\"closest_station\"]\n",
    "\n",
    "weather['date_station_id'] = weather.index.map(str) + weather.Station.map(str)"
   ]
  },
  {
   "cell_type": "code",
   "execution_count": 56,
   "metadata": {
    "collapsed": false
   },
   "outputs": [
    {
     "name": "stdout",
     "output_type": "stream",
     "text": [
      "2007-05-29 00:00:002\n",
      "2007-06-05 00:00:002\n",
      "2007-06-26 00:00:002\n",
      "2007-06-29 00:00:002\n",
      "2007-07-02 00:00:002\n",
      "2007-07-11 00:00:002\n",
      "2007-07-18 00:00:002\n",
      "2007-07-19 00:00:002\n",
      "2007-07-25 00:00:002\n",
      "2007-07-27 00:00:002\n",
      "2007-08-01 00:00:002\n",
      "2007-08-02 00:00:002\n",
      "2007-08-03 00:00:002\n",
      "2007-08-07 00:00:002\n",
      "2007-08-08 00:00:002\n",
      "2007-08-09 00:00:002\n",
      "2007-08-15 00:00:002\n",
      "2007-08-16 00:00:002\n",
      "2007-08-17 00:00:002\n",
      "2007-08-21 00:00:002\n",
      "2007-08-22 00:00:002\n",
      "2007-08-24 00:00:002\n",
      "2007-08-28 00:00:002\n",
      "2007-09-04 00:00:002\n",
      "2007-09-05 00:00:002\n",
      "2007-09-06 00:00:002\n",
      "2007-09-12 00:00:002\n",
      "2007-09-18 00:00:002\n",
      "2007-09-19 00:00:002\n",
      "2007-09-24 00:00:002\n",
      "2007-09-25 00:00:002\n",
      "2007-10-04 00:00:002\n",
      "2007-10-09 00:00:002\n",
      "2009-05-28 00:00:002\n",
      "2009-06-02 00:00:002\n",
      "2009-06-03 00:00:002\n",
      "2009-06-05 00:00:002\n",
      "2009-06-12 00:00:002\n",
      "2009-06-15 00:00:002\n",
      "2009-06-19 00:00:002\n",
      "2009-06-22 00:00:002\n",
      "2009-06-26 00:00:002\n",
      "2009-06-29 00:00:002\n",
      "2009-07-06 00:00:002\n",
      "2009-07-10 00:00:002\n",
      "2009-07-13 00:00:002\n",
      "2009-07-17 00:00:002\n",
      "2009-07-24 00:00:002\n",
      "2009-07-27 00:00:002\n",
      "2009-07-31 00:00:002\n",
      "2009-08-07 00:00:002\n",
      "2009-08-13 00:00:002\n",
      "2009-08-25 00:00:002\n",
      "2009-08-27 00:00:002\n",
      "2009-09-03 00:00:002\n",
      "2009-09-14 00:00:002\n",
      "2009-09-17 00:00:002\n",
      "2009-09-25 00:00:002\n",
      "2009-10-01 00:00:002\n",
      "2011-06-10 00:00:002\n",
      "2011-06-17 00:00:002\n",
      "2011-06-24 00:00:002\n",
      "2011-06-30 00:00:002\n",
      "2011-07-11 00:00:002\n",
      "2011-07-15 00:00:002\n",
      "2011-07-25 00:00:002\n",
      "2011-07-29 00:00:002\n",
      "2011-08-05 00:00:002\n",
      "2011-08-12 00:00:002\n",
      "2011-08-19 00:00:002\n",
      "2011-08-26 00:00:002\n",
      "2011-09-01 00:00:002\n",
      "2011-09-02 00:00:002\n",
      "2011-09-12 00:00:002\n",
      "2011-09-16 00:00:002\n",
      "2011-09-23 00:00:002\n",
      "2011-09-30 00:00:002\n",
      "2013-06-07 00:00:002\n",
      "2013-06-14 00:00:002\n",
      "2013-06-21 00:00:002\n",
      "2013-06-27 00:00:002\n",
      "2013-06-28 00:00:002\n",
      "2013-07-08 00:00:002\n",
      "2013-07-12 00:00:002\n",
      "2013-07-19 00:00:002\n",
      "2013-07-25 00:00:002\n",
      "2013-08-01 00:00:002\n",
      "2013-08-08 00:00:002\n",
      "2013-08-15 00:00:002\n",
      "2013-08-22 00:00:002\n",
      "2013-08-29 00:00:002\n",
      "2013-09-06 00:00:002\n",
      "2013-09-12 00:00:002\n",
      "2013-09-19 00:00:002\n",
      "2013-09-26 00:00:002\n"
     ]
    }
   ],
   "source": [
    "# Check whether unique id works\n",
    "\n",
    "train_dates = train.date_station_id.unique()\n",
    "\n",
    "weather_dates = set(weather.date_station_id)\n",
    "\n",
    "for day in train_dates:\n",
    "    if day in weather_dates:\n",
    "        print day"
   ]
  }
 ],
 "metadata": {
  "kernelspec": {
   "display_name": "Python 2",
   "language": "python",
   "name": "python2"
  },
  "language_info": {
   "codemirror_mode": {
    "name": "ipython",
    "version": 2
   },
   "file_extension": ".py",
   "mimetype": "text/x-python",
   "name": "python",
   "nbconvert_exporter": "python",
   "pygments_lexer": "ipython2",
   "version": "2.7.11"
  }
 },
 "nbformat": 4,
 "nbformat_minor": 0
}
