{
 "cells": [
  {
   "cell_type": "markdown",
   "metadata": {},
   "source": [
    "# Modeling the Appearance of West Nile Virus in Chicago\n",
    "\n",
    "Insert summary text here about approach and best results, as well as visualizations"
   ]
  },
  {
   "cell_type": "code",
   "execution_count": 1,
   "metadata": {
    "collapsed": false
   },
   "outputs": [],
   "source": [
    "# import all libraries used\n",
    "import pandas as pd\n",
    "import numpy as np\n",
    "import matplotlib.pyplot as plt\n",
    "import seaborn as sns\n",
    "%matplotlib inline\n",
    "from sklearn.ensemble import RandomForestClassifier\n",
    "from sklearn.cross_validation import cross_val_score, train_test_split\n",
    "from sklearn.metrics import confusion_matrix, classification_report\n",
    "from sklearn.feature_selection import SelectKBest\n",
    "from sklearn.linear_model import LogisticRegression\n",
    "from sklearn.preprocessing import binarize\n",
    "from sklearn.grid_search import GridSearchCV\n",
    "import warnings\n",
    "warnings.filterwarnings(\"ignore\")\n",
    "\n",
    "# define a random state and train test split % to use throughout\n",
    "rs = 8\n",
    "tts = .2"
   ]
  },
  {
   "cell_type": "code",
   "execution_count": 2,
   "metadata": {
    "collapsed": true
   },
   "outputs": [],
   "source": [
    "# define functions for classification model evaluation\n",
    "def doClassifMetrics(y_test, y_pred):\n",
    "    print 'Confusion Matrix \\n', confusion_matrix(y_test, y_pred)\n",
    "    print 'Classification Report \\n', classification_report(y_test, y_pred)\n",
    "\n",
    "def modelEval(name, model, X, y, binarize_threshold):\n",
    "    X_train, X_test, y_train, y_test = train_test_split(X_kbest, y, test_size=0.2,\n",
    "        stratify = y, random_state = rs)\n",
    "    meancvscore = cross_val_score(model, X, y, n_jobs=-1, verbose=1).mean()\n",
    "    print 'Model %s cross_val_score: %f' % (name, meancvscore)\n",
    "    model.fit(X_train, y_train)\n",
    "    y_pred = model.predict(X_test) # this uses default 50% probability threshold to predict 1\n",
    "    y_pred_adj = binarize(model.predict_proba(X_test)[:,1],\n",
    "        threshold = binarize_threshold, copy=False).transpose()\n",
    "    print 'Model %s classification metrics:' % name\n",
    "    doClassifMetrics(y_test, y_pred)\n",
    "    print 'Model %s using prediction threshold %f:' % (name, binarize_threshold)\n",
    "    doClassifMetrics(y_test, y_pred_adj)"
   ]
  },
  {
   "cell_type": "code",
   "execution_count": 3,
   "metadata": {
    "collapsed": false
   },
   "outputs": [],
   "source": [
    "# read in cleaned and merged data\n",
    "df = pd.read_csv('Assets/merged.csv')"
   ]
  },
  {
   "cell_type": "markdown",
   "metadata": {},
   "source": [
    "## Approach 1: Select 10 Best Features and use Random Forest Classifier"
   ]
  },
  {
   "cell_type": "code",
   "execution_count": 7,
   "metadata": {
    "collapsed": false
   },
   "outputs": [],
   "source": [
    "# define X and y, dropping unnecessary columns\n",
    "X = df.drop(['Date', 'Trap', 'Year','WnvPresent', 'date_station_id'], axis=1)\n",
    "y = df['WnvPresent']"
   ]
  },
  {
   "cell_type": "code",
   "execution_count": 5,
   "metadata": {
    "collapsed": true
   },
   "outputs": [],
   "source": [
    "# select the 10 best features\n",
    "kbest = SelectKBest(k=10)\n",
    "X_kbest = kbest.fit_transform(X,y)\n",
    "\n",
    "# get list of best feature names, and put into a dataframe for reference\n",
    "best_features = [x for (x,y) in zip(X.columns, kbest.get_support().tolist()) if y==1]\n",
    "X_kbest = pd.DataFrame(X_kbest, columns = best_features)"
   ]
  },
  {
   "cell_type": "code",
   "execution_count": 8,
   "metadata": {
    "collapsed": false
   },
   "outputs": [
    {
     "name": "stdout",
     "output_type": "stream",
     "text": [
      "Model LogisticRegression cross_val_score: 0.946431\n",
      "Model LogisticRegression classification metrics:\n",
      "Confusion Matrix \n",
      "[[1602    2]\n",
      " [  88    3]]\n",
      "Classification Report \n",
      "             precision    recall  f1-score   support\n",
      "\n",
      "          0       0.95      1.00      0.97      1604\n",
      "          1       0.60      0.03      0.06        91\n",
      "\n",
      "avg / total       0.93      0.95      0.92      1695\n",
      "\n",
      "Model LogisticRegression using prediction threshold 0.200000:\n",
      "Confusion Matrix \n",
      "[[1599    5]\n",
      " [  84    7]]\n",
      "Classification Report \n",
      "             precision    recall  f1-score   support\n",
      "\n",
      "          0       0.95      1.00      0.97      1604\n",
      "          1       0.58      0.08      0.14        91\n",
      "\n",
      "avg / total       0.93      0.95      0.93      1695\n",
      "\n"
     ]
    },
    {
     "name": "stderr",
     "output_type": "stream",
     "text": [
      "[Parallel(n_jobs=-1)]: Done   3 out of   3 | elapsed:    0.1s finished\n"
     ]
    }
   ],
   "source": [
    "# instantiate LogisticRegression and evaluate model:\n",
    "lg = LogisticRegression(random_state=rs, n_jobs=-1)\n",
    "modelEval('LogisticRegression', lg, X_kbest, y, binarize_threshold = 0.2)"
   ]
  },
  {
   "cell_type": "code",
   "execution_count": 9,
   "metadata": {
    "collapsed": false
   },
   "outputs": [
    {
     "name": "stderr",
     "output_type": "stream",
     "text": [
      "[Parallel(n_jobs=-1)]: Done   3 out of   3 | elapsed:    0.3s finished\n"
     ]
    },
    {
     "name": "stdout",
     "output_type": "stream",
     "text": [
      "Model RandomForestClassifier cross_val_score: 0.810239\n",
      "Model RandomForestClassifier classification metrics:\n",
      "Confusion Matrix \n",
      "[[1587   17]\n",
      " [  84    7]]\n",
      "Classification Report \n",
      "             precision    recall  f1-score   support\n",
      "\n",
      "          0       0.95      0.99      0.97      1604\n",
      "          1       0.29      0.08      0.12        91\n",
      "\n",
      "avg / total       0.91      0.94      0.92      1695\n",
      "\n",
      "Model RandomForestClassifier using prediction threshold 0.200000:\n",
      "Confusion Matrix \n",
      "[[1530   74]\n",
      " [  68   23]]\n",
      "Classification Report \n",
      "             precision    recall  f1-score   support\n",
      "\n",
      "          0       0.96      0.95      0.96      1604\n",
      "          1       0.24      0.25      0.24        91\n",
      "\n",
      "avg / total       0.92      0.92      0.92      1695\n",
      "\n"
     ]
    }
   ],
   "source": [
    "# instantiate  RandomForestClassifier and evaluate model\n",
    "rf = RandomForestClassifier(random_state=rs, n_jobs=-1, max_depth = None)\n",
    "modelEval('RandomForestClassifier', rf, X_kbest, y, 0.2)"
   ]
  }
 ],
 "metadata": {
  "kernelspec": {
   "display_name": "Python 2",
   "language": "python",
   "name": "python2"
  },
  "language_info": {
   "codemirror_mode": {
    "name": "ipython",
    "version": 2
   },
   "file_extension": ".py",
   "mimetype": "text/x-python",
   "name": "python",
   "nbconvert_exporter": "python",
   "pygments_lexer": "ipython2",
   "version": "2.7.11"
  }
 },
 "nbformat": 4,
 "nbformat_minor": 0
}
