{
 "cells": [
  {
   "cell_type": "code",
   "execution_count": 109,
   "metadata": {
    "collapsed": true
   },
   "outputs": [],
   "source": [
    "import pandas as pd\n",
    "import numpy as np\n",
    "from matplotlib import pyplot as plt\n",
    "\n",
    "%matplotlib inline"
   ]
  },
  {
   "cell_type": "code",
   "execution_count": 110,
   "metadata": {
    "collapsed": true
   },
   "outputs": [],
   "source": [
    "# Create path for train.csv and weather.csv\n",
    "\n",
    "path_train = '/Users/michaelshea/desktop/class/WestNile/WestNilePrediction/Assets/train.csv'\n",
    "path_weather = '/Users/michaelshea/desktop/class/WestNile/WestNilePrediction/Assets/weather.csv'"
   ]
  },
  {
   "cell_type": "code",
   "execution_count": 111,
   "metadata": {
    "collapsed": false
   },
   "outputs": [],
   "source": [
    "# Read in dataframes\n",
    "\n",
    "train = pd.read_csv(path_train)\n",
    "weather = pd.read_csv(path_weather)"
   ]
  },
  {
   "cell_type": "code",
   "execution_count": 112,
   "metadata": {
    "collapsed": false
   },
   "outputs": [
    {
     "name": "stdout",
     "output_type": "stream",
     "text": [
      "Date                       object\n",
      "Address                    object\n",
      "Species                    object\n",
      "Block                       int64\n",
      "Street                     object\n",
      "Trap                       object\n",
      "AddressNumberAndStreet     object\n",
      "Latitude                  float64\n",
      "Longitude                 float64\n",
      "AddressAccuracy             int64\n",
      "NumMosquitos                int64\n",
      "WnvPresent                  int64\n",
      "dtype: object\n"
     ]
    }
   ],
   "source": [
    "# Dtypes and columns of train_df \n",
    "\n",
    "print train.dtypes"
   ]
  },
  {
   "cell_type": "code",
   "execution_count": 113,
   "metadata": {
    "collapsed": true
   },
   "outputs": [],
   "source": [
    "# Convert train.Date to datetime\n",
    "\n",
    "train['Date'] = pd.to_datetime(train.Date)"
   ]
  },
  {
   "cell_type": "code",
   "execution_count": 114,
   "metadata": {
    "collapsed": false
   },
   "outputs": [
    {
     "name": "stdout",
     "output_type": "stream",
     "text": [
      "Station          int64\n",
      "Date            object\n",
      "Tmax             int64\n",
      "Tmin             int64\n",
      "Tavg            object\n",
      "Depart          object\n",
      "DewPoint         int64\n",
      "WetBulb         object\n",
      "Heat            object\n",
      "Cool            object\n",
      "Sunrise         object\n",
      "Sunset          object\n",
      "CodeSum         object\n",
      "Depth           object\n",
      "Water1          object\n",
      "SnowFall        object\n",
      "PrecipTotal     object\n",
      "StnPressure     object\n",
      "SeaLevel        object\n",
      "ResultSpeed    float64\n",
      "ResultDir        int64\n",
      "AvgSpeed        object\n",
      "dtype: object\n"
     ]
    }
   ],
   "source": [
    "# Dtypes and columns of weather_df\n",
    "\n",
    "print weather.dtypes"
   ]
  },
  {
   "cell_type": "code",
   "execution_count": 115,
   "metadata": {
    "collapsed": true
   },
   "outputs": [],
   "source": [
    "# Convert weather Station to object\n",
    "\n",
    "weather['Station'] = weather.Station.apply(str)"
   ]
  },
  {
   "cell_type": "code",
   "execution_count": 116,
   "metadata": {
    "collapsed": false
   },
   "outputs": [],
   "source": [
    "# Convert weather Date column to datetime\n",
    "\n",
    "weather['Date'] = pd.to_datetime(weather.Date)"
   ]
  },
  {
   "cell_type": "code",
   "execution_count": 117,
   "metadata": {
    "collapsed": false
   },
   "outputs": [],
   "source": [
    "# Set weather index to Date\n",
    "\n",
    "weather.set_index('Date', inplace=True)"
   ]
  },
  {
   "cell_type": "code",
   "execution_count": 118,
   "metadata": {
    "collapsed": false
   },
   "outputs": [
    {
     "name": "stdout",
     "output_type": "stream",
     "text": [
      "2007-05-01 00:00:00\n",
      "2014-10-31 00:00:00\n"
     ]
    }
   ],
   "source": [
    "# Find Date range of weather data\n",
    "\n",
    "print weather.index.min()\n",
    "print weather.index.max()"
   ]
  },
  {
   "cell_type": "code",
   "execution_count": 119,
   "metadata": {
    "collapsed": false
   },
   "outputs": [
    {
     "name": "stdout",
     "output_type": "stream",
     "text": [
      "1472\n"
     ]
    }
   ],
   "source": [
    "# Was weather measured every day? Every weekday?\n",
    "# According to internet, there were 2741 days between the dates above, 1886 excluding weekends and public holidays\n",
    "\n",
    "# This proves weather not measured everyday (just something to note going forward):\n",
    "print len(weather.index.unique())"
   ]
  },
  {
   "cell_type": "code",
   "execution_count": 120,
   "metadata": {
    "collapsed": false
   },
   "outputs": [],
   "source": [
    "# Since test set includes 2008, 2010, 2012, and 2014, pull out these years from weather\n",
    "\n",
    "weather = weather[(weather.index.year == 2007) | (weather.index.year == 2009) | (weather.index.year == 2011) | (weather.index.year == 2013)]"
   ]
  },
  {
   "cell_type": "code",
   "execution_count": 121,
   "metadata": {
    "collapsed": false
   },
   "outputs": [
    {
     "name": "stdout",
     "output_type": "stream",
     "text": [
      "[2007 2009 2011 2013]\n"
     ]
    }
   ],
   "source": [
    "# Demonstrate above code worked:\n",
    "\n",
    "print np.unique(weather.index.year)"
   ]
  },
  {
   "cell_type": "markdown",
   "metadata": {},
   "source": [
    "Since there are two weather stations, it might make sense to calculate the distance between each trap and the nearest weather station, and then use that station's weather data when we merge. The following link is what I found when I googled \"calculate distance between two points latitude longitude python\": http://www.johndcook.com/blog/python_longitude_latitude/\n",
    "\n",
    "It uses this code:"
   ]
  },
  {
   "cell_type": "code",
   "execution_count": 122,
   "metadata": {
    "collapsed": false
   },
   "outputs": [],
   "source": [
    "import math\n",
    " \n",
    "def distance_on_unit_sphere(lat1, long1, lat2, long2):\n",
    "\n",
    "    # Convert latitude and longitude to spherical coordinates in radians\n",
    "    degrees_to_radians = math.pi/180.0\n",
    " \n",
    "    # phi = 90 - latitude\n",
    "    phi1 = (90.0 - lat1)*degrees_to_radians\n",
    "    phi2 = (90.0 - lat2)*degrees_to_radians\n",
    " \n",
    "    # theta = longitude\n",
    "    theta1 = long1*degrees_to_radians\n",
    "    theta2 = long2*degrees_to_radians\n",
    " \n",
    "    # Compute spherical distance from spherical coordinates.\n",
    " \n",
    "    # For two locations in spherical coordinates\n",
    "    # (1, theta, phi) and (1, theta', phi')\n",
    "    # cosine( arc length ) =\n",
    "    # sin phi sin phi' cos(theta-theta') + cos phi cos phi'\n",
    "    # distance = rho * arc length\n",
    " \n",
    "    cos = (math.sin(phi1)*math.sin(phi2)*math.cos(theta1 - theta2) +\n",
    "    math.cos(phi1)*math.cos(phi2))\n",
    "    arc = math.acos( cos )\n",
    "\n",
    "    # Remember to multiply arc by the radius of the earth\n",
    "    # in your favorite set of units to get length.\n",
    "    return arc"
   ]
  },
  {
   "cell_type": "code",
   "execution_count": 123,
   "metadata": {
    "collapsed": false
   },
   "outputs": [],
   "source": [
    "# We could add a new column called closest_station to the train dataframe\n",
    "\n",
    "station_1_lat = 41.995\n",
    "station_1_lon = -87.933\n",
    "station_2_lat = 41.786\n",
    "station_2_lon = -87.752\n",
    "dist_to_station_1 = []\n",
    "dist_to_station_2 = []\n",
    "closest_station = []\n",
    "\n",
    "for i in range(len(train.index)):\n",
    "    one = distance_on_unit_sphere(train.ix[i, 'Latitude'], train.ix[i, 'Longitude'], station_1_lat, station_1_lon)\n",
    "    two = distance_on_unit_sphere(train.ix[i, 'Latitude'], train.ix[i, 'Longitude'], station_2_lat, station_2_lon)\n",
    "    if dist_to_station_1 > dist_to_station_2:\n",
    "        closest_station.append('1')\n",
    "    else:\n",
    "        closest_station.append('2')"
   ]
  },
  {
   "cell_type": "code",
   "execution_count": 124,
   "metadata": {
    "collapsed": true
   },
   "outputs": [],
   "source": [
    "# Add distances to weather stations to train dataframe\n",
    "\n",
    "train['closest_station'] = closest_station"
   ]
  },
  {
   "cell_type": "code",
   "execution_count": 125,
   "metadata": {
    "collapsed": false
   },
   "outputs": [],
   "source": [
    "# Add a unique identifier column to both train and weather dataframes by combining timestamp and weather station\n",
    "\n",
    "train['date_station_id'] = train[\"Date\"].map(str) + train[\"closest_station\"]\n",
    "\n",
    "weather['date_station_id'] = weather.index.map(str) + weather.Station.map(str)"
   ]
  },
  {
   "cell_type": "code",
   "execution_count": 147,
   "metadata": {
    "collapsed": true
   },
   "outputs": [],
   "source": [
    "train_dates = train.date_station_id.unique()"
   ]
  },
  {
   "cell_type": "code",
   "execution_count": 148,
   "metadata": {
    "collapsed": false
   },
   "outputs": [],
   "source": [
    "weather_dates = set(weather.date_station_id)"
   ]
  },
  {
   "cell_type": "code",
   "execution_count": 149,
   "metadata": {
    "collapsed": false
   },
   "outputs": [
    {
     "name": "stdout",
     "output_type": "stream",
     "text": [
      "2007-05-29 00:00:002\n",
      "2007-06-05 00:00:002\n",
      "2007-06-26 00:00:002\n",
      "2007-06-29 00:00:002\n",
      "2007-07-02 00:00:002\n",
      "2007-07-11 00:00:002\n",
      "2007-07-18 00:00:002\n",
      "2007-07-19 00:00:002\n",
      "2007-07-25 00:00:002\n",
      "2007-07-27 00:00:002\n",
      "2007-08-01 00:00:002\n",
      "2007-08-02 00:00:002\n",
      "2007-08-03 00:00:002\n",
      "2007-08-07 00:00:002\n",
      "2007-08-08 00:00:002\n",
      "2007-08-09 00:00:002\n",
      "2007-08-15 00:00:002\n",
      "2007-08-16 00:00:002\n",
      "2007-08-17 00:00:002\n",
      "2007-08-21 00:00:002\n",
      "2007-08-22 00:00:002\n",
      "2007-08-24 00:00:002\n",
      "2007-08-28 00:00:002\n",
      "2007-09-04 00:00:002\n",
      "2007-09-05 00:00:002\n",
      "2007-09-06 00:00:002\n",
      "2007-09-12 00:00:002\n",
      "2007-09-18 00:00:002\n",
      "2007-09-19 00:00:002\n",
      "2007-09-24 00:00:002\n",
      "2007-09-25 00:00:002\n",
      "2007-10-04 00:00:002\n",
      "2007-10-09 00:00:002\n",
      "2009-05-28 00:00:002\n",
      "2009-06-02 00:00:002\n",
      "2009-06-03 00:00:002\n",
      "2009-06-05 00:00:002\n",
      "2009-06-12 00:00:002\n",
      "2009-06-15 00:00:002\n",
      "2009-06-19 00:00:002\n",
      "2009-06-22 00:00:002\n",
      "2009-06-26 00:00:002\n",
      "2009-06-29 00:00:002\n",
      "2009-07-06 00:00:002\n",
      "2009-07-10 00:00:002\n",
      "2009-07-13 00:00:002\n",
      "2009-07-17 00:00:002\n",
      "2009-07-24 00:00:002\n",
      "2009-07-27 00:00:002\n",
      "2009-07-31 00:00:002\n",
      "2009-08-07 00:00:002\n",
      "2009-08-13 00:00:002\n",
      "2009-08-25 00:00:002\n",
      "2009-08-27 00:00:002\n",
      "2009-09-03 00:00:002\n",
      "2009-09-14 00:00:002\n",
      "2009-09-17 00:00:002\n",
      "2009-09-25 00:00:002\n",
      "2009-10-01 00:00:002\n",
      "2011-06-10 00:00:002\n",
      "2011-06-17 00:00:002\n",
      "2011-06-24 00:00:002\n",
      "2011-06-30 00:00:002\n",
      "2011-07-11 00:00:002\n",
      "2011-07-15 00:00:002\n",
      "2011-07-25 00:00:002\n",
      "2011-07-29 00:00:002\n",
      "2011-08-05 00:00:002\n",
      "2011-08-12 00:00:002\n",
      "2011-08-19 00:00:002\n",
      "2011-08-26 00:00:002\n",
      "2011-09-01 00:00:002\n",
      "2011-09-02 00:00:002\n",
      "2011-09-12 00:00:002\n",
      "2011-09-16 00:00:002\n",
      "2011-09-23 00:00:002\n",
      "2011-09-30 00:00:002\n",
      "2013-06-07 00:00:002\n",
      "2013-06-14 00:00:002\n",
      "2013-06-21 00:00:002\n",
      "2013-06-27 00:00:002\n",
      "2013-06-28 00:00:002\n",
      "2013-07-08 00:00:002\n",
      "2013-07-12 00:00:002\n",
      "2013-07-19 00:00:002\n",
      "2013-07-25 00:00:002\n",
      "2013-08-01 00:00:002\n",
      "2013-08-08 00:00:002\n",
      "2013-08-15 00:00:002\n",
      "2013-08-22 00:00:002\n",
      "2013-08-29 00:00:002\n",
      "2013-09-06 00:00:002\n",
      "2013-09-12 00:00:002\n",
      "2013-09-19 00:00:002\n",
      "2013-09-26 00:00:002\n"
     ]
    }
   ],
   "source": [
    "for day in train_dates:\n",
    "    if day in weather_dates:\n",
    "        print day"
   ]
  },
  {
   "cell_type": "code",
   "execution_count": 130,
   "metadata": {
    "collapsed": false
   },
   "outputs": [
    {
     "data": {
      "text/plain": [
       "10506"
      ]
     },
     "execution_count": 130,
     "metadata": {},
     "output_type": "execute_result"
    }
   ],
   "source": [
    "len(train_dates)"
   ]
  },
  {
   "cell_type": "code",
   "execution_count": 131,
   "metadata": {
    "collapsed": false
   },
   "outputs": [
    {
     "data": {
      "text/plain": [
       "95"
      ]
     },
     "execution_count": 131,
     "metadata": {},
     "output_type": "execute_result"
    }
   ],
   "source": [
    "len(train_dates_set)"
   ]
  },
  {
   "cell_type": "code",
   "execution_count": 136,
   "metadata": {
    "collapsed": false
   },
   "outputs": [
    {
     "data": {
      "text/plain": [
       "0        2007-05-29 00:00:002\n",
       "1        2007-05-29 00:00:002\n",
       "2        2007-05-29 00:00:002\n",
       "3        2007-05-29 00:00:002\n",
       "4        2007-05-29 00:00:002\n",
       "5        2007-05-29 00:00:002\n",
       "6        2007-05-29 00:00:002\n",
       "7        2007-05-29 00:00:002\n",
       "8        2007-05-29 00:00:002\n",
       "9        2007-05-29 00:00:002\n",
       "10       2007-05-29 00:00:002\n",
       "11       2007-05-29 00:00:002\n",
       "12       2007-05-29 00:00:002\n",
       "13       2007-05-29 00:00:002\n",
       "14       2007-05-29 00:00:002\n",
       "15       2007-05-29 00:00:002\n",
       "16       2007-05-29 00:00:002\n",
       "17       2007-05-29 00:00:002\n",
       "18       2007-05-29 00:00:002\n",
       "19       2007-05-29 00:00:002\n",
       "20       2007-05-29 00:00:002\n",
       "21       2007-05-29 00:00:002\n",
       "22       2007-05-29 00:00:002\n",
       "23       2007-05-29 00:00:002\n",
       "24       2007-05-29 00:00:002\n",
       "25       2007-06-05 00:00:002\n",
       "26       2007-06-05 00:00:002\n",
       "27       2007-06-05 00:00:002\n",
       "28       2007-06-05 00:00:002\n",
       "29       2007-06-05 00:00:002\n",
       "                 ...         \n",
       "10476    2013-09-26 00:00:002\n",
       "10477    2013-09-26 00:00:002\n",
       "10478    2013-09-26 00:00:002\n",
       "10479    2013-09-26 00:00:002\n",
       "10480    2013-09-26 00:00:002\n",
       "10481    2013-09-26 00:00:002\n",
       "10482    2013-09-26 00:00:002\n",
       "10483    2013-09-26 00:00:002\n",
       "10484    2013-09-26 00:00:002\n",
       "10485    2013-09-26 00:00:002\n",
       "10486    2013-09-26 00:00:002\n",
       "10487    2013-09-26 00:00:002\n",
       "10488    2013-09-26 00:00:002\n",
       "10489    2013-09-26 00:00:002\n",
       "10490    2013-09-26 00:00:002\n",
       "10491    2013-09-26 00:00:002\n",
       "10492    2013-09-26 00:00:002\n",
       "10493    2013-09-26 00:00:002\n",
       "10494    2013-09-26 00:00:002\n",
       "10495    2013-09-26 00:00:002\n",
       "10496    2013-09-26 00:00:002\n",
       "10497    2013-09-26 00:00:002\n",
       "10498    2013-09-26 00:00:002\n",
       "10499    2013-09-26 00:00:002\n",
       "10500    2013-09-26 00:00:002\n",
       "10501    2013-09-26 00:00:002\n",
       "10502    2013-09-26 00:00:002\n",
       "10503    2013-09-26 00:00:002\n",
       "10504    2013-09-26 00:00:002\n",
       "10505    2013-09-26 00:00:002\n",
       "Name: date_station_id, dtype: object"
      ]
     },
     "execution_count": 136,
     "metadata": {},
     "output_type": "execute_result"
    }
   ],
   "source": [
    "train.date_station_id"
   ]
  },
  {
   "cell_type": "code",
   "execution_count": 144,
   "metadata": {
    "collapsed": false
   },
   "outputs": [
    {
     "data": {
      "text/plain": [
       "True"
      ]
     },
     "execution_count": 144,
     "metadata": {},
     "output_type": "execute_result"
    }
   ],
   "source": [
    "weather.date_station_id[57] == train.date_station_id[0]"
   ]
  },
  {
   "cell_type": "code",
   "execution_count": null,
   "metadata": {
    "collapsed": true
   },
   "outputs": [],
   "source": [
    "2007-05-29 00:00:002\n",
    "2007-05-29 00:00:002"
   ]
  }
 ],
 "metadata": {
  "kernelspec": {
   "display_name": "Python 2",
   "language": "python",
   "name": "python2"
  },
  "language_info": {
   "codemirror_mode": {
    "name": "ipython",
    "version": 2
   },
   "file_extension": ".py",
   "mimetype": "text/x-python",
   "name": "python",
   "nbconvert_exporter": "python",
   "pygments_lexer": "ipython2",
   "version": "2.7.11"
  }
 },
 "nbformat": 4,
 "nbformat_minor": 0
}
